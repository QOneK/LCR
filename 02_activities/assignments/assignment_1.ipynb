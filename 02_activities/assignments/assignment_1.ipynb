{
 "cells": [
  {
   "cell_type": "markdown",
   "id": "7b0bcac6-5086-4f4e-928a-570a9ff7ae58",
   "metadata": {},
   "source": [
    "# Assignment 1"
   ]
  },
  {
   "cell_type": "markdown",
   "id": "5fce0350-2a17-4e93-8d4c-0b8748fdfc32",
   "metadata": {},
   "source": [
    "You only need to write one line of code for each question. When answering questions that ask you to identify or interpret something, the length of your response doesn’t matter. For example, if the answer is just ‘yes,’ ‘no,’ or a number, you can just give that answer without adding anything else.\n",
    "\n",
    "We will go through comparable code and concepts in the live learning session. If you run into trouble, start by using the help `help()` function in Python, to get information about the datasets and function in question. The internet is also a great resource when coding (though note that **no outside searches are required by the assignment!**). If you do incorporate code from the internet, please cite the source within your code (providing a URL is sufficient).\n",
    "\n",
    "Please bring questions that you cannot work out on your own to office hours, work periods or share with your peers on Slack. We will work with you through the issue."
   ]
  },
  {
   "cell_type": "markdown",
   "id": "5fc5001c-7715-4ebe-b0f7-e4bd04349629",
   "metadata": {},
   "source": [
    "### Classification using KNN\n",
    "\n",
    "Let's set up our workspace and use the **Wine dataset** from `scikit-learn`. This dataset contains 178 wine samples with 13 chemical features, used to classify wines into different classes based on their origin.\n",
    "\n",
    "The **response variable** is `class`, which indicates the type of wine. We'll use all of the chemical features to predict this response variable."
   ]
  },
  {
   "cell_type": "code",
   "execution_count": null,
   "id": "69492712",
   "metadata": {},
   "outputs": [
    {
     "name": "stdout",
     "output_type": "stream",
     "text": [
      "Collecting scikit-learn\n",
      "  Downloading scikit_learn-1.6.1-cp39-cp39-win_amd64.whl.metadata (15 kB)\n",
      "Requirement already satisfied: numpy>=1.19.5 in c:\\users\\kyuhw\\miniconda3\\envs\\dsi_participant\\lib\\site-packages (from scikit-learn) (2.0.2)\n",
      "Collecting scipy>=1.6.0 (from scikit-learn)\n",
      "  Downloading scipy-1.13.1-cp39-cp39-win_amd64.whl.metadata (60 kB)\n",
      "Collecting joblib>=1.2.0 (from scikit-learn)\n",
      "  Downloading joblib-1.5.2-py3-none-any.whl.metadata (5.6 kB)\n",
      "Collecting threadpoolctl>=3.1.0 (from scikit-learn)\n",
      "  Downloading threadpoolctl-3.6.0-py3-none-any.whl.metadata (13 kB)\n",
      "Downloading scikit_learn-1.6.1-cp39-cp39-win_amd64.whl (11.2 MB)\n",
      "   ---------------------------------------- 0.0/11.2 MB ? eta -:--:--\n",
      "   ---- ----------------------------------- 1.3/11.2 MB 6.7 MB/s eta 0:00:02\n",
      "   -------- ------------------------------- 2.4/11.2 MB 5.6 MB/s eta 0:00:02\n",
      "   -------------- ------------------------- 3.9/11.2 MB 6.7 MB/s eta 0:00:02\n",
      "   ----------------- ---------------------- 5.0/11.2 MB 6.2 MB/s eta 0:00:02\n",
      "   -------------------- ------------------- 5.8/11.2 MB 5.9 MB/s eta 0:00:01\n",
      "   -------------------------- ------------- 7.3/11.2 MB 5.9 MB/s eta 0:00:01\n",
      "   ------------------------------ --------- 8.4/11.2 MB 5.9 MB/s eta 0:00:01\n",
      "   ---------------------------------- ----- 9.7/11.2 MB 5.8 MB/s eta 0:00:01\n",
      "   ---------------------------------------  11.0/11.2 MB 5.8 MB/s eta 0:00:01\n",
      "   ---------------------------------------- 11.2/11.2 MB 5.8 MB/s eta 0:00:00\n",
      "Downloading joblib-1.5.2-py3-none-any.whl (308 kB)\n",
      "Downloading scipy-1.13.1-cp39-cp39-win_amd64.whl (46.2 MB)\n",
      "   ---------------------------------------- 0.0/46.2 MB ? eta -:--:--\n",
      "   ---------------------------------------- 0.0/46.2 MB ? eta -:--:--\n",
      "   ---------------------------------------- 0.0/46.2 MB ? eta -:--:--\n",
      "   ---------------------------------------- 0.0/46.2 MB ? eta -:--:--\n",
      "   ---------------------------------------- 0.0/46.2 MB ? eta -:--:--\n",
      "   ---------------------------------------- 0.0/46.2 MB ? eta -:--:--\n",
      "   ---------------------------------------- 0.3/46.2 MB ? eta -:--:--\n",
      "   ---------------------------------------- 0.3/46.2 MB ? eta -:--:--\n",
      "   ---------------------------------------- 0.3/46.2 MB ? eta -:--:--\n",
      "   ---------------------------------------- 0.3/46.2 MB ? eta -:--:--\n",
      "   ---------------------------------------- 0.3/46.2 MB ? eta -:--:--\n",
      "   ---------------------------------------- 0.5/46.2 MB 229.7 kB/s eta 0:03:19\n",
      "   ---------------------------------------- 0.5/46.2 MB 229.7 kB/s eta 0:03:19\n",
      "   ---------------------------------------- 0.5/46.2 MB 229.7 kB/s eta 0:03:19\n",
      "   ---------------------------------------- 0.5/46.2 MB 229.7 kB/s eta 0:03:19\n",
      "   ---------------------------------------- 0.5/46.2 MB 229.7 kB/s eta 0:03:19\n",
      "    --------------------------------------- 0.8/46.2 MB 239.6 kB/s eta 0:03:10\n",
      "    --------------------------------------- 0.8/46.2 MB 239.6 kB/s eta 0:03:10\n",
      "    --------------------------------------- 0.8/46.2 MB 239.6 kB/s eta 0:03:10\n",
      "    --------------------------------------- 0.8/46.2 MB 239.6 kB/s eta 0:03:10\n",
      "    --------------------------------------- 0.8/46.2 MB 239.6 kB/s eta 0:03:10\n",
      "    --------------------------------------- 1.0/46.2 MB 240.8 kB/s eta 0:03:08\n",
      "    --------------------------------------- 1.0/46.2 MB 240.8 kB/s eta 0:03:08\n",
      "    --------------------------------------- 1.0/46.2 MB 240.8 kB/s eta 0:03:08\n",
      "    --------------------------------------- 1.0/46.2 MB 240.8 kB/s eta 0:03:08\n",
      "    --------------------------------------- 1.0/46.2 MB 240.8 kB/s eta 0:03:08\n",
      "    --------------------------------------- 1.0/46.2 MB 240.8 kB/s eta 0:03:08\n",
      "   - -------------------------------------- 1.3/46.2 MB 239.7 kB/s eta 0:03:08\n",
      "   - -------------------------------------- 1.3/46.2 MB 239.7 kB/s eta 0:03:08\n",
      "   - -------------------------------------- 1.3/46.2 MB 239.7 kB/s eta 0:03:08\n",
      "   - -------------------------------------- 1.3/46.2 MB 239.7 kB/s eta 0:03:08\n",
      "   - -------------------------------------- 1.3/46.2 MB 239.7 kB/s eta 0:03:08\n",
      "   - -------------------------------------- 1.6/46.2 MB 239.0 kB/s eta 0:03:07\n",
      "   - -------------------------------------- 1.6/46.2 MB 239.0 kB/s eta 0:03:07\n",
      "   - -------------------------------------- 1.6/46.2 MB 239.0 kB/s eta 0:03:07\n",
      "   - -------------------------------------- 1.6/46.2 MB 239.0 kB/s eta 0:03:07\n",
      "   - -------------------------------------- 1.6/46.2 MB 239.0 kB/s eta 0:03:07\n",
      "   - -------------------------------------- 1.8/46.2 MB 236.8 kB/s eta 0:03:08\n",
      "   - -------------------------------------- 1.8/46.2 MB 236.8 kB/s eta 0:03:08\n",
      "   - -------------------------------------- 1.8/46.2 MB 236.8 kB/s eta 0:03:08\n",
      "   - -------------------------------------- 1.8/46.2 MB 236.8 kB/s eta 0:03:08\n",
      "   - -------------------------------------- 1.8/46.2 MB 236.8 kB/s eta 0:03:08\n",
      "   - -------------------------------------- 2.1/46.2 MB 237.2 kB/s eta 0:03:07\n",
      "   - -------------------------------------- 2.1/46.2 MB 237.2 kB/s eta 0:03:07\n",
      "   - -------------------------------------- 2.1/46.2 MB 237.2 kB/s eta 0:03:07\n",
      "   - -------------------------------------- 2.1/46.2 MB 237.2 kB/s eta 0:03:07\n",
      "   - -------------------------------------- 2.1/46.2 MB 237.2 kB/s eta 0:03:07\n",
      "   - -------------------------------------- 2.1/46.2 MB 237.2 kB/s eta 0:03:07\n",
      "   -- ------------------------------------- 2.4/46.2 MB 238.0 kB/s eta 0:03:05\n",
      "   -- ------------------------------------- 2.4/46.2 MB 238.0 kB/s eta 0:03:05\n",
      "   -- ------------------------------------- 2.4/46.2 MB 238.0 kB/s eta 0:03:05\n",
      "   -- ------------------------------------- 2.4/46.2 MB 238.0 kB/s eta 0:03:05\n",
      "   -- ------------------------------------- 2.4/46.2 MB 238.0 kB/s eta 0:03:05\n",
      "   -- ------------------------------------- 2.6/46.2 MB 237.4 kB/s eta 0:03:04\n",
      "   -- ------------------------------------- 2.6/46.2 MB 237.4 kB/s eta 0:03:04\n",
      "   -- ------------------------------------- 2.6/46.2 MB 237.4 kB/s eta 0:03:04\n",
      "   -- ------------------------------------- 2.6/46.2 MB 237.4 kB/s eta 0:03:04\n",
      "   -- ------------------------------------- 2.6/46.2 MB 237.4 kB/s eta 0:03:04\n",
      "   -- ------------------------------------- 2.9/46.2 MB 237.6 kB/s eta 0:03:03\n",
      "   -- ------------------------------------- 2.9/46.2 MB 237.6 kB/s eta 0:03:03\n",
      "   -- ------------------------------------- 2.9/46.2 MB 237.6 kB/s eta 0:03:03\n",
      "   -- ------------------------------------- 2.9/46.2 MB 237.6 kB/s eta 0:03:03\n",
      "   -- ------------------------------------- 2.9/46.2 MB 237.6 kB/s eta 0:03:03\n",
      "   -- ------------------------------------- 3.1/46.2 MB 237.2 kB/s eta 0:03:02\n",
      "   -- ------------------------------------- 3.1/46.2 MB 237.2 kB/s eta 0:03:02\n",
      "   -- ------------------------------------- 3.1/46.2 MB 237.2 kB/s eta 0:03:02\n",
      "   -- ------------------------------------- 3.1/46.2 MB 237.2 kB/s eta 0:03:02\n",
      "   -- ------------------------------------- 3.1/46.2 MB 237.2 kB/s eta 0:03:02\n",
      "   -- ------------------------------------- 3.1/46.2 MB 237.2 kB/s eta 0:03:02\n",
      "   -- ------------------------------------- 3.4/46.2 MB 236.0 kB/s eta 0:03:02\n",
      "   -- ------------------------------------- 3.4/46.2 MB 236.0 kB/s eta 0:03:02\n",
      "   -- ------------------------------------- 3.4/46.2 MB 236.0 kB/s eta 0:03:02\n",
      "   -- ------------------------------------- 3.4/46.2 MB 236.0 kB/s eta 0:03:02\n",
      "   -- ------------------------------------- 3.4/46.2 MB 236.0 kB/s eta 0:03:02\n",
      "   --- ------------------------------------ 3.7/46.2 MB 236.0 kB/s eta 0:03:01\n",
      "   --- ------------------------------------ 3.7/46.2 MB 236.0 kB/s eta 0:03:01\n",
      "   --- ------------------------------------ 3.7/46.2 MB 236.0 kB/s eta 0:03:01\n",
      "   --- ------------------------------------ 3.7/46.2 MB 236.0 kB/s eta 0:03:01\n",
      "   --- ------------------------------------ 3.7/46.2 MB 236.0 kB/s eta 0:03:01\n",
      "   --- ------------------------------------ 3.9/46.2 MB 235.8 kB/s eta 0:03:00\n",
      "   --- ------------------------------------ 3.9/46.2 MB 235.8 kB/s eta 0:03:00\n",
      "   --- ------------------------------------ 3.9/46.2 MB 235.8 kB/s eta 0:03:00\n",
      "   --- ------------------------------------ 3.9/46.2 MB 235.8 kB/s eta 0:03:00\n",
      "   --- ------------------------------------ 3.9/46.2 MB 235.8 kB/s eta 0:03:00\n",
      "   --- ------------------------------------ 4.2/46.2 MB 236.7 kB/s eta 0:02:58\n",
      "   --- ------------------------------------ 4.2/46.2 MB 236.7 kB/s eta 0:02:58\n",
      "   --- ------------------------------------ 4.2/46.2 MB 236.7 kB/s eta 0:02:58\n",
      "   --- ------------------------------------ 4.2/46.2 MB 236.7 kB/s eta 0:02:58\n",
      "   --- ------------------------------------ 4.2/46.2 MB 236.7 kB/s eta 0:02:58\n",
      "   --- ------------------------------------ 4.5/46.2 MB 237.1 kB/s eta 0:02:57\n",
      "   --- ------------------------------------ 4.5/46.2 MB 237.1 kB/s eta 0:02:57\n",
      "   --- ------------------------------------ 4.5/46.2 MB 237.1 kB/s eta 0:02:57\n",
      "   --- ------------------------------------ 4.5/46.2 MB 237.1 kB/s eta 0:02:57\n",
      "   --- ------------------------------------ 4.5/46.2 MB 237.1 kB/s eta 0:02:57\n",
      "   --- ------------------------------------ 4.5/46.2 MB 237.1 kB/s eta 0:02:57\n",
      "   ---- ----------------------------------- 4.7/46.2 MB 237.1 kB/s eta 0:02:56\n",
      "   ---- ----------------------------------- 4.7/46.2 MB 237.1 kB/s eta 0:02:56\n",
      "   ---- ----------------------------------- 4.7/46.2 MB 237.1 kB/s eta 0:02:56\n",
      "   ---- ----------------------------------- 4.7/46.2 MB 237.1 kB/s eta 0:02:56\n",
      "   ---- ----------------------------------- 4.7/46.2 MB 237.1 kB/s eta 0:02:56\n",
      "   ---- ----------------------------------- 5.0/46.2 MB 237.0 kB/s eta 0:02:55\n",
      "   ---- ----------------------------------- 5.0/46.2 MB 237.0 kB/s eta 0:02:55\n",
      "   ---- ----------------------------------- 5.0/46.2 MB 237.0 kB/s eta 0:02:55\n",
      "   ---- ----------------------------------- 5.0/46.2 MB 237.0 kB/s eta 0:02:55\n",
      "   ---- ----------------------------------- 5.0/46.2 MB 237.0 kB/s eta 0:02:55\n",
      "   ---- ----------------------------------- 5.8/46.2 MB 260.8 kB/s eta 0:02:36\n",
      "   ------ --------------------------------- 7.3/46.2 MB 332.1 kB/s eta 0:01:58\n",
      "   ------- -------------------------------- 8.9/46.2 MB 401.5 kB/s eta 0:01:33\n",
      "   -------- ------------------------------- 10.2/46.2 MB 457.7 kB/s eta 0:01:19\n",
      "   --------- ------------------------------ 11.3/46.2 MB 500.8 kB/s eta 0:01:10\n",
      "   ---------- ----------------------------- 12.6/46.2 MB 556.1 kB/s eta 0:01:01\n",
      "   ------------ --------------------------- 14.2/46.2 MB 620.5 kB/s eta 0:00:52\n",
      "   ------------- -------------------------- 15.2/46.2 MB 662.2 kB/s eta 0:00:47\n",
      "   -------------- ------------------------- 16.3/46.2 MB 701.0 kB/s eta 0:00:43\n",
      "   --------------- ------------------------ 18.1/46.2 MB 774.0 kB/s eta 0:00:37\n",
      "   ---------------- ----------------------- 19.1/46.2 MB 812.9 kB/s eta 0:00:34\n",
      "   ----------------- ---------------------- 20.7/46.2 MB 872.4 kB/s eta 0:00:30\n",
      "   ------------------- -------------------- 22.0/46.2 MB 920.3 kB/s eta 0:00:27\n",
      "   -------------------- ------------------- 23.6/46.2 MB 977.2 kB/s eta 0:00:24\n",
      "   --------------------- ------------------ 24.6/46.2 MB 1.0 MB/s eta 0:00:22\n",
      "   ---------------------- ----------------- 26.5/46.2 MB 1.1 MB/s eta 0:00:19\n",
      "   ------------------------ --------------- 28.0/46.2 MB 1.1 MB/s eta 0:00:17\n",
      "   ------------------------- -------------- 29.4/46.2 MB 1.2 MB/s eta 0:00:15\n",
      "   -------------------------- ------------- 30.7/46.2 MB 1.2 MB/s eta 0:00:13\n",
      "   ---------------------------- ----------- 32.5/46.2 MB 1.3 MB/s eta 0:00:11\n",
      "   ----------------------------- ---------- 34.1/46.2 MB 1.3 MB/s eta 0:00:10\n",
      "   ------------------------------ --------- 35.4/46.2 MB 1.4 MB/s eta 0:00:08\n",
      "   ------------------------------- -------- 36.4/46.2 MB 1.4 MB/s eta 0:00:07\n",
      "   -------------------------------- ------- 37.7/46.2 MB 1.4 MB/s eta 0:00:06\n",
      "   ---------------------------------- ----- 39.3/46.2 MB 1.5 MB/s eta 0:00:05\n",
      "   ----------------------------------- ---- 40.9/46.2 MB 1.5 MB/s eta 0:00:04\n",
      "   ------------------------------------ --- 42.5/46.2 MB 1.6 MB/s eta 0:00:03\n",
      "   -------------------------------------- - 44.0/46.2 MB 1.6 MB/s eta 0:00:02\n",
      "   ---------------------------------------  45.6/46.2 MB 1.7 MB/s eta 0:00:01\n",
      "   ---------------------------------------- 46.2/46.2 MB 1.7 MB/s eta 0:00:00\n",
      "Downloading threadpoolctl-3.6.0-py3-none-any.whl (18 kB)\n",
      "Installing collected packages: threadpoolctl, scipy, joblib, scikit-learn\n",
      "\n",
      "   ---------- ----------------------------- 1/4 [scipy]\n",
      "   ---------- ----------------------------- 1/4 [scipy]\n",
      "   ---------- ----------------------------- 1/4 [scipy]\n",
      "   ---------- ----------------------------- 1/4 [scipy]\n",
      "   ---------- ----------------------------- 1/4 [scipy]\n",
      "   ---------- ----------------------------- 1/4 [scipy]\n",
      "   ---------- ----------------------------- 1/4 [scipy]\n",
      "   ---------- ----------------------------- 1/4 [scipy]\n",
      "   ---------- ----------------------------- 1/4 [scipy]\n",
      "   ---------- ----------------------------- 1/4 [scipy]\n",
      "   ---------- ----------------------------- 1/4 [scipy]\n",
      "   ---------- ----------------------------- 1/4 [scipy]\n",
      "   ---------- ----------------------------- 1/4 [scipy]\n",
      "   ---------- ----------------------------- 1/4 [scipy]\n",
      "   ---------- ----------------------------- 1/4 [scipy]\n",
      "   ---------- ----------------------------- 1/4 [scipy]\n",
      "   ---------- ----------------------------- 1/4 [scipy]\n",
      "   ---------- ----------------------------- 1/4 [scipy]\n",
      "   ---------- ----------------------------- 1/4 [scipy]\n",
      "   ---------- ----------------------------- 1/4 [scipy]\n",
      "   ---------- ----------------------------- 1/4 [scipy]\n",
      "   ---------- ----------------------------- 1/4 [scipy]\n",
      "   ---------- ----------------------------- 1/4 [scipy]\n",
      "   ---------- ----------------------------- 1/4 [scipy]\n",
      "   ---------- ----------------------------- 1/4 [scipy]\n",
      "   ---------- ----------------------------- 1/4 [scipy]\n",
      "   ---------- ----------------------------- 1/4 [scipy]\n",
      "   -------------------- ------------------- 2/4 [joblib]\n",
      "   -------------------- ------------------- 2/4 [joblib]\n",
      "   ------------------------------ --------- 3/4 [scikit-learn]\n",
      "   ------------------------------ --------- 3/4 [scikit-learn]\n",
      "   ------------------------------ --------- 3/4 [scikit-learn]\n",
      "   ------------------------------ --------- 3/4 [scikit-learn]\n",
      "   ------------------------------ --------- 3/4 [scikit-learn]\n",
      "   ------------------------------ --------- 3/4 [scikit-learn]\n",
      "   ------------------------------ --------- 3/4 [scikit-learn]\n",
      "   ------------------------------ --------- 3/4 [scikit-learn]\n",
      "   ------------------------------ --------- 3/4 [scikit-learn]\n",
      "   ------------------------------ --------- 3/4 [scikit-learn]\n",
      "   ------------------------------ --------- 3/4 [scikit-learn]\n",
      "   ------------------------------ --------- 3/4 [scikit-learn]\n",
      "   ------------------------------ --------- 3/4 [scikit-learn]\n",
      "   ------------------------------ --------- 3/4 [scikit-learn]\n",
      "   ------------------------------ --------- 3/4 [scikit-learn]\n",
      "   ------------------------------ --------- 3/4 [scikit-learn]\n",
      "   ------------------------------ --------- 3/4 [scikit-learn]\n",
      "   ------------------------------ --------- 3/4 [scikit-learn]\n",
      "   ---------------------------------------- 4/4 [scikit-learn]\n",
      "\n",
      "Successfully installed joblib-1.5.2 scikit-learn-1.6.1 scipy-1.13.1 threadpoolctl-3.6.0\n"
     ]
    }
   ],
   "source": [
    "# '!' is used to run shell commands on .ipynb (Jupyter Notebook) files (if not installed, uncomment next line)\n",
    "#!pip install pandas\n",
    "#!pip install matplotlib\n",
    "#!pip install scikit-learn"
   ]
  },
  {
   "cell_type": "code",
   "execution_count": 7,
   "id": "4a3485d6-ba58-4660-a983-5680821c5719",
   "metadata": {},
   "outputs": [],
   "source": [
    "# Import standard libraries\n",
    "import pandas as pd\n",
    "import numpy as np\n",
    "import random\n",
    "import matplotlib.pyplot as plt\n",
    "import matplotlib.colors as mcolors\n",
    "from sklearn.preprocessing import StandardScaler\n",
    "from sklearn.model_selection import train_test_split\n",
    "from sklearn.neighbors import KNeighborsClassifier\n",
    "from sklearn.metrics import recall_score, precision_score\n",
    "from sklearn.model_selection import cross_validate\n",
    "from sklearn.model_selection import GridSearchCV\n",
    "from sklearn.metrics import accuracy_score"
   ]
  },
  {
   "cell_type": "code",
   "execution_count": 8,
   "id": "a431d282-f9ca-4d5d-8912-71ffc9d8ea19",
   "metadata": {},
   "outputs": [
    {
     "data": {
      "text/html": [
       "<div>\n",
       "<style scoped>\n",
       "    .dataframe tbody tr th:only-of-type {\n",
       "        vertical-align: middle;\n",
       "    }\n",
       "\n",
       "    .dataframe tbody tr th {\n",
       "        vertical-align: top;\n",
       "    }\n",
       "\n",
       "    .dataframe thead th {\n",
       "        text-align: right;\n",
       "    }\n",
       "</style>\n",
       "<table border=\"1\" class=\"dataframe\">\n",
       "  <thead>\n",
       "    <tr style=\"text-align: right;\">\n",
       "      <th></th>\n",
       "      <th>alcohol</th>\n",
       "      <th>malic_acid</th>\n",
       "      <th>ash</th>\n",
       "      <th>alcalinity_of_ash</th>\n",
       "      <th>magnesium</th>\n",
       "      <th>total_phenols</th>\n",
       "      <th>flavanoids</th>\n",
       "      <th>nonflavanoid_phenols</th>\n",
       "      <th>proanthocyanins</th>\n",
       "      <th>color_intensity</th>\n",
       "      <th>hue</th>\n",
       "      <th>od280/od315_of_diluted_wines</th>\n",
       "      <th>proline</th>\n",
       "      <th>class</th>\n",
       "    </tr>\n",
       "  </thead>\n",
       "  <tbody>\n",
       "    <tr>\n",
       "      <th>0</th>\n",
       "      <td>14.23</td>\n",
       "      <td>1.71</td>\n",
       "      <td>2.43</td>\n",
       "      <td>15.6</td>\n",
       "      <td>127.0</td>\n",
       "      <td>2.80</td>\n",
       "      <td>3.06</td>\n",
       "      <td>0.28</td>\n",
       "      <td>2.29</td>\n",
       "      <td>5.64</td>\n",
       "      <td>1.04</td>\n",
       "      <td>3.92</td>\n",
       "      <td>1065.0</td>\n",
       "      <td>0</td>\n",
       "    </tr>\n",
       "    <tr>\n",
       "      <th>1</th>\n",
       "      <td>13.20</td>\n",
       "      <td>1.78</td>\n",
       "      <td>2.14</td>\n",
       "      <td>11.2</td>\n",
       "      <td>100.0</td>\n",
       "      <td>2.65</td>\n",
       "      <td>2.76</td>\n",
       "      <td>0.26</td>\n",
       "      <td>1.28</td>\n",
       "      <td>4.38</td>\n",
       "      <td>1.05</td>\n",
       "      <td>3.40</td>\n",
       "      <td>1050.0</td>\n",
       "      <td>0</td>\n",
       "    </tr>\n",
       "    <tr>\n",
       "      <th>2</th>\n",
       "      <td>13.16</td>\n",
       "      <td>2.36</td>\n",
       "      <td>2.67</td>\n",
       "      <td>18.6</td>\n",
       "      <td>101.0</td>\n",
       "      <td>2.80</td>\n",
       "      <td>3.24</td>\n",
       "      <td>0.30</td>\n",
       "      <td>2.81</td>\n",
       "      <td>5.68</td>\n",
       "      <td>1.03</td>\n",
       "      <td>3.17</td>\n",
       "      <td>1185.0</td>\n",
       "      <td>0</td>\n",
       "    </tr>\n",
       "    <tr>\n",
       "      <th>3</th>\n",
       "      <td>14.37</td>\n",
       "      <td>1.95</td>\n",
       "      <td>2.50</td>\n",
       "      <td>16.8</td>\n",
       "      <td>113.0</td>\n",
       "      <td>3.85</td>\n",
       "      <td>3.49</td>\n",
       "      <td>0.24</td>\n",
       "      <td>2.18</td>\n",
       "      <td>7.80</td>\n",
       "      <td>0.86</td>\n",
       "      <td>3.45</td>\n",
       "      <td>1480.0</td>\n",
       "      <td>0</td>\n",
       "    </tr>\n",
       "    <tr>\n",
       "      <th>4</th>\n",
       "      <td>13.24</td>\n",
       "      <td>2.59</td>\n",
       "      <td>2.87</td>\n",
       "      <td>21.0</td>\n",
       "      <td>118.0</td>\n",
       "      <td>2.80</td>\n",
       "      <td>2.69</td>\n",
       "      <td>0.39</td>\n",
       "      <td>1.82</td>\n",
       "      <td>4.32</td>\n",
       "      <td>1.04</td>\n",
       "      <td>2.93</td>\n",
       "      <td>735.0</td>\n",
       "      <td>0</td>\n",
       "    </tr>\n",
       "    <tr>\n",
       "      <th>...</th>\n",
       "      <td>...</td>\n",
       "      <td>...</td>\n",
       "      <td>...</td>\n",
       "      <td>...</td>\n",
       "      <td>...</td>\n",
       "      <td>...</td>\n",
       "      <td>...</td>\n",
       "      <td>...</td>\n",
       "      <td>...</td>\n",
       "      <td>...</td>\n",
       "      <td>...</td>\n",
       "      <td>...</td>\n",
       "      <td>...</td>\n",
       "      <td>...</td>\n",
       "    </tr>\n",
       "    <tr>\n",
       "      <th>173</th>\n",
       "      <td>13.71</td>\n",
       "      <td>5.65</td>\n",
       "      <td>2.45</td>\n",
       "      <td>20.5</td>\n",
       "      <td>95.0</td>\n",
       "      <td>1.68</td>\n",
       "      <td>0.61</td>\n",
       "      <td>0.52</td>\n",
       "      <td>1.06</td>\n",
       "      <td>7.70</td>\n",
       "      <td>0.64</td>\n",
       "      <td>1.74</td>\n",
       "      <td>740.0</td>\n",
       "      <td>2</td>\n",
       "    </tr>\n",
       "    <tr>\n",
       "      <th>174</th>\n",
       "      <td>13.40</td>\n",
       "      <td>3.91</td>\n",
       "      <td>2.48</td>\n",
       "      <td>23.0</td>\n",
       "      <td>102.0</td>\n",
       "      <td>1.80</td>\n",
       "      <td>0.75</td>\n",
       "      <td>0.43</td>\n",
       "      <td>1.41</td>\n",
       "      <td>7.30</td>\n",
       "      <td>0.70</td>\n",
       "      <td>1.56</td>\n",
       "      <td>750.0</td>\n",
       "      <td>2</td>\n",
       "    </tr>\n",
       "    <tr>\n",
       "      <th>175</th>\n",
       "      <td>13.27</td>\n",
       "      <td>4.28</td>\n",
       "      <td>2.26</td>\n",
       "      <td>20.0</td>\n",
       "      <td>120.0</td>\n",
       "      <td>1.59</td>\n",
       "      <td>0.69</td>\n",
       "      <td>0.43</td>\n",
       "      <td>1.35</td>\n",
       "      <td>10.20</td>\n",
       "      <td>0.59</td>\n",
       "      <td>1.56</td>\n",
       "      <td>835.0</td>\n",
       "      <td>2</td>\n",
       "    </tr>\n",
       "    <tr>\n",
       "      <th>176</th>\n",
       "      <td>13.17</td>\n",
       "      <td>2.59</td>\n",
       "      <td>2.37</td>\n",
       "      <td>20.0</td>\n",
       "      <td>120.0</td>\n",
       "      <td>1.65</td>\n",
       "      <td>0.68</td>\n",
       "      <td>0.53</td>\n",
       "      <td>1.46</td>\n",
       "      <td>9.30</td>\n",
       "      <td>0.60</td>\n",
       "      <td>1.62</td>\n",
       "      <td>840.0</td>\n",
       "      <td>2</td>\n",
       "    </tr>\n",
       "    <tr>\n",
       "      <th>177</th>\n",
       "      <td>14.13</td>\n",
       "      <td>4.10</td>\n",
       "      <td>2.74</td>\n",
       "      <td>24.5</td>\n",
       "      <td>96.0</td>\n",
       "      <td>2.05</td>\n",
       "      <td>0.76</td>\n",
       "      <td>0.56</td>\n",
       "      <td>1.35</td>\n",
       "      <td>9.20</td>\n",
       "      <td>0.61</td>\n",
       "      <td>1.60</td>\n",
       "      <td>560.0</td>\n",
       "      <td>2</td>\n",
       "    </tr>\n",
       "  </tbody>\n",
       "</table>\n",
       "<p>178 rows × 14 columns</p>\n",
       "</div>"
      ],
      "text/plain": [
       "     alcohol  malic_acid   ash  alcalinity_of_ash  magnesium  total_phenols  \\\n",
       "0      14.23        1.71  2.43               15.6      127.0           2.80   \n",
       "1      13.20        1.78  2.14               11.2      100.0           2.65   \n",
       "2      13.16        2.36  2.67               18.6      101.0           2.80   \n",
       "3      14.37        1.95  2.50               16.8      113.0           3.85   \n",
       "4      13.24        2.59  2.87               21.0      118.0           2.80   \n",
       "..       ...         ...   ...                ...        ...            ...   \n",
       "173    13.71        5.65  2.45               20.5       95.0           1.68   \n",
       "174    13.40        3.91  2.48               23.0      102.0           1.80   \n",
       "175    13.27        4.28  2.26               20.0      120.0           1.59   \n",
       "176    13.17        2.59  2.37               20.0      120.0           1.65   \n",
       "177    14.13        4.10  2.74               24.5       96.0           2.05   \n",
       "\n",
       "     flavanoids  nonflavanoid_phenols  proanthocyanins  color_intensity   hue  \\\n",
       "0          3.06                  0.28             2.29             5.64  1.04   \n",
       "1          2.76                  0.26             1.28             4.38  1.05   \n",
       "2          3.24                  0.30             2.81             5.68  1.03   \n",
       "3          3.49                  0.24             2.18             7.80  0.86   \n",
       "4          2.69                  0.39             1.82             4.32  1.04   \n",
       "..          ...                   ...              ...              ...   ...   \n",
       "173        0.61                  0.52             1.06             7.70  0.64   \n",
       "174        0.75                  0.43             1.41             7.30  0.70   \n",
       "175        0.69                  0.43             1.35            10.20  0.59   \n",
       "176        0.68                  0.53             1.46             9.30  0.60   \n",
       "177        0.76                  0.56             1.35             9.20  0.61   \n",
       "\n",
       "     od280/od315_of_diluted_wines  proline  class  \n",
       "0                            3.92   1065.0      0  \n",
       "1                            3.40   1050.0      0  \n",
       "2                            3.17   1185.0      0  \n",
       "3                            3.45   1480.0      0  \n",
       "4                            2.93    735.0      0  \n",
       "..                            ...      ...    ...  \n",
       "173                          1.74    740.0      2  \n",
       "174                          1.56    750.0      2  \n",
       "175                          1.56    835.0      2  \n",
       "176                          1.62    840.0      2  \n",
       "177                          1.60    560.0      2  \n",
       "\n",
       "[178 rows x 14 columns]"
      ]
     },
     "execution_count": 8,
     "metadata": {},
     "output_type": "execute_result"
    }
   ],
   "source": [
    "from sklearn.datasets import load_wine\n",
    "\n",
    "# Load the Wine dataset\n",
    "wine_data = load_wine()\n",
    "\n",
    "# Convert to DataFrame\n",
    "wine_df = pd.DataFrame(wine_data.data, columns=wine_data.feature_names)\n",
    "\n",
    "# Bind the 'class' (wine target) to the DataFrame\n",
    "wine_df['class'] = wine_data.target\n",
    "\n",
    "# Display the DataFrame\n",
    "wine_df\n"
   ]
  },
  {
   "cell_type": "markdown",
   "id": "721b2b17",
   "metadata": {},
   "source": [
    "#### **Question 1:** \n",
    "#### Data inspection\n",
    "\n",
    "Before fitting any model, it is essential to understand our data. **Use Python code** to answer the following questions about the **Wine dataset**:\n",
    "\n",
    "_(i)_ How many observations (rows) does the dataset contain?"
   ]
  },
  {
   "cell_type": "code",
   "execution_count": 13,
   "id": "56916892",
   "metadata": {},
   "outputs": [
    {
     "data": {
      "text/plain": [
       "(178, 14)"
      ]
     },
     "execution_count": 13,
     "metadata": {},
     "output_type": "execute_result"
    }
   ],
   "source": [
    "wine_df.shape"
   ]
  },
  {
   "cell_type": "markdown",
   "id": "d4d013d4",
   "metadata": {},
   "source": [
    "Since the output is rows then columns, there are 178 rows"
   ]
  },
  {
   "cell_type": "markdown",
   "id": "f7573b59",
   "metadata": {},
   "source": [
    "_(ii)_ How many variables (columns) does the dataset contain?"
   ]
  },
  {
   "cell_type": "code",
   "execution_count": 14,
   "id": "df0ef103",
   "metadata": {},
   "outputs": [
    {
     "data": {
      "text/plain": [
       "(178, 14)"
      ]
     },
     "execution_count": 14,
     "metadata": {},
     "output_type": "execute_result"
    }
   ],
   "source": [
    "wine_df.shape"
   ]
  },
  {
   "cell_type": "markdown",
   "id": "d2a10992",
   "metadata": {},
   "source": [
    "Since the output is rows then columns, there are 14 columns"
   ]
  },
  {
   "cell_type": "markdown",
   "id": "cb5180c7",
   "metadata": {},
   "source": [
    "_(iii)_ What is the 'variable type' of the response variable `class` (e.g., 'integer', 'category', etc.)? What are the 'levels' (unique values) of the variable?"
   ]
  },
  {
   "cell_type": "code",
   "execution_count": 15,
   "id": "47989426",
   "metadata": {},
   "outputs": [
    {
     "data": {
      "text/plain": [
       "dtype('int64')"
      ]
     },
     "execution_count": 15,
     "metadata": {},
     "output_type": "execute_result"
    }
   ],
   "source": [
    "wine_df[\"class\"].dtype"
   ]
  },
  {
   "cell_type": "markdown",
   "id": "cea978a8",
   "metadata": {},
   "source": [
    "The \"class\" colummn consists of 'int64' datatypes"
   ]
  },
  {
   "cell_type": "code",
   "execution_count": 16,
   "id": "110abd7b",
   "metadata": {},
   "outputs": [
    {
     "data": {
      "text/plain": [
       "array([0, 1, 2])"
      ]
     },
     "execution_count": 16,
     "metadata": {},
     "output_type": "execute_result"
    }
   ],
   "source": [
    "wine_df[\"class\"].unique()"
   ]
  },
  {
   "cell_type": "markdown",
   "id": "a505b8ca",
   "metadata": {},
   "source": [
    "The unique values within \"class\" column are: 0, 1, 2"
   ]
  },
  {
   "cell_type": "markdown",
   "id": "a25f5e1b",
   "metadata": {},
   "source": [
    "\n",
    "_(iv)_ How many predictor variables do we have (Hint: all variables other than `class`)? "
   ]
  },
  {
   "cell_type": "markdown",
   "id": "abcb7d56",
   "metadata": {},
   "source": [
    "13 ; there are 13 predictor variables\n",
    "\n",
    "Previously, we have found out that there are 14 rows. Out of them, there is one class variable (attribute, column)\n",
    "Therefore, the remaining 13 would be the predictor variables"
   ]
  },
  {
   "cell_type": "markdown",
   "id": "d631e8e3",
   "metadata": {},
   "source": [
    "You can use `print()` and `describe()` to help answer these questions."
   ]
  },
  {
   "cell_type": "markdown",
   "id": "fa3832d7",
   "metadata": {},
   "source": [
    "#### **Question 2:** \n",
    "#### Standardization and data-splitting\n",
    "\n",
    "Next, we must preform 'pre-processing' or 'data munging', to prepare our data for classification/prediction. For KNN, there are three essential steps. A first essential step is to 'standardize' the predictor variables. We can achieve this using the scaler method, provided as follows:"
   ]
  },
  {
   "cell_type": "code",
   "execution_count": 17,
   "id": "cc899b59",
   "metadata": {},
   "outputs": [
    {
     "name": "stdout",
     "output_type": "stream",
     "text": [
      "    alcohol  malic_acid       ash  alcalinity_of_ash  magnesium  \\\n",
      "0  1.518613   -0.562250  0.232053          -1.169593   1.913905   \n",
      "1  0.246290   -0.499413 -0.827996          -2.490847   0.018145   \n",
      "2  0.196879    0.021231  1.109334          -0.268738   0.088358   \n",
      "3  1.691550   -0.346811  0.487926          -0.809251   0.930918   \n",
      "4  0.295700    0.227694  1.840403           0.451946   1.281985   \n",
      "\n",
      "   total_phenols  flavanoids  nonflavanoid_phenols  proanthocyanins  \\\n",
      "0       0.808997    1.034819             -0.659563         1.224884   \n",
      "1       0.568648    0.733629             -0.820719        -0.544721   \n",
      "2       0.808997    1.215533             -0.498407         2.135968   \n",
      "3       2.491446    1.466525             -0.981875         1.032155   \n",
      "4       0.808997    0.663351              0.226796         0.401404   \n",
      "\n",
      "   color_intensity       hue  od280/od315_of_diluted_wines   proline  \n",
      "0         0.251717  0.362177                      1.847920  1.013009  \n",
      "1        -0.293321  0.406051                      1.113449  0.965242  \n",
      "2         0.269020  0.318304                      0.788587  1.395148  \n",
      "3         1.186068 -0.427544                      1.184071  2.334574  \n",
      "4        -0.319276  0.362177                      0.449601 -0.037874  \n"
     ]
    }
   ],
   "source": [
    "# Select predictors (excluding the last column)\n",
    "predictors = wine_df.iloc[:, :-1]\n",
    "\n",
    "# Standardize the predictors\n",
    "scaler = StandardScaler()\n",
    "predictors_standardized = pd.DataFrame(scaler.fit_transform(predictors), columns=predictors.columns)\n",
    "\n",
    "# Display the head of the standardized predictors\n",
    "print(predictors_standardized.head())"
   ]
  },
  {
   "cell_type": "markdown",
   "id": "9981ca48",
   "metadata": {},
   "source": [
    "(i) Why is it important to standardize the predictor variables?"
   ]
  },
  {
   "cell_type": "markdown",
   "id": "403ef0bb",
   "metadata": {},
   "source": [
    "> Algorithms that relay on distances give more weight to large-scale variables, therefore, makes model fairer, improve training stability, leading to better performance. We take out negative values by squaring. Taking out the negative values ensures we get the ratios correctly for each variable. We normalize it by reversing the squaring by square rooting. "
   ]
  },
  {
   "cell_type": "markdown",
   "id": "8e2e1bea",
   "metadata": {},
   "source": [
    "(ii) Why did we elect not to standard our response variable `Class`?"
   ]
  },
  {
   "cell_type": "markdown",
   "id": "fdee5a15",
   "metadata": {},
   "source": [
    "> Standardization only makes sense for continuous, numerical variables. 'Class' is categorical response variable, not a numerical predictor. "
   ]
  },
  {
   "cell_type": "markdown",
   "id": "8077ec21",
   "metadata": {},
   "source": [
    "(iii) A second essential step is to set a random seed. Do so below (Hint: use the random.seed function). Why is setting a seed important? Is the particular seed value important? Why or why not?"
   ]
  },
  {
   "cell_type": "markdown",
   "id": "f0676c21",
   "metadata": {},
   "source": [
    "> Setting a seed makes experiments reproducible and comparable. The exact value of the seed isn’t important. What matters is that you fix it and keep it consistent so that  "
   ]
  },
  {
   "cell_type": "markdown",
   "id": "36ab9229",
   "metadata": {},
   "source": [
    "(iv) A third essential step is to split our standardized data into separate training and testing sets. We will split into 75% training and 25% testing. The provided code randomly partitions our data, and creates linked training sets for the predictors and response variables. \n",
    "\n",
    "Extend the code to create a non-overlapping test set for the predictors and response variables."
   ]
  },
  {
   "cell_type": "code",
   "execution_count": null,
   "id": "72c101f2",
   "metadata": {},
   "outputs": [],
   "source": [
    "# set a seed for reproducibility\n",
    "np.random.seed(123)\n",
    "\n",
    "# split the data into a training and testing set. hint: use train_test_split !\n",
    "\n",
    "# Your code here ..."
   ]
  },
  {
   "cell_type": "markdown",
   "id": "4604ee03",
   "metadata": {},
   "source": [
    "#### **Question 3:**\n",
    "#### Model initialization and cross-validation\n",
    "We are finally set to fit the KNN model. \n",
    "\n",
    "\n",
    "Perform a grid search to tune the `n_neighbors` hyperparameter using 10-fold cross-validation. Follow these steps:\n",
    "\n",
    "1. Initialize the KNN classifier using `KNeighborsClassifier()`.\n",
    "2. Define a parameter grid for `n_neighbors` ranging from 1 to 50.\n",
    "3. Implement a grid search using `GridSearchCV` with 10-fold cross-validation to find the optimal number of neighbors.\n",
    "4. After fitting the model on the training data, identify and return the best value for `n_neighbors` based on the grid search results."
   ]
  },
  {
   "cell_type": "code",
   "execution_count": null,
   "id": "08818c64",
   "metadata": {},
   "outputs": [],
   "source": [
    "# Your code here..."
   ]
  },
  {
   "cell_type": "markdown",
   "id": "3f76bf62",
   "metadata": {},
   "source": [
    "#### **Question 4:**\n",
    "#### Model evaluation\n",
    "\n",
    "Using the best value for `n_neighbors`, fit a KNN model on the training data and evaluate its performance on the test set using `accuracy_score`."
   ]
  },
  {
   "cell_type": "code",
   "execution_count": null,
   "id": "ffefa9f2",
   "metadata": {},
   "outputs": [],
   "source": [
    "# Your code here..."
   ]
  },
  {
   "cell_type": "markdown",
   "id": "6f8a69db",
   "metadata": {},
   "source": [
    "# Criteria\n",
    "\n",
    "\n",
    "| **Criteria**                                           | **Complete**                                      | **Incomplete**                                    |\n",
    "|--------------------------------------------------------|---------------------------------------------------|--------------------------------------------------|\n",
    "| **Data Inspection**                                    | Data is inspected for number of variables, observations and data types. | Data inspection is missing or incomplete.         |\n",
    "| **Data Scaling**                                       | Data scaling or normalization is applied where necessary (e.g., using `StandardScaler`). | Data scaling or normalization is missing or incorrectly applied. |\n",
    "| **Model Initialization**                               | The KNN model is correctly initialized and a random seed is set for reproducibility.            | The KNN model is not initialized, is incorrect, or lacks a random seed for reproducibility. |\n",
    "| **Parameter Grid for `n_neighbors`**                   | The parameter grid for `n_neighbors` is correctly defined. | The parameter grid is missing or incorrectly defined. |\n",
    "| **Cross-Validation Setup**                             | Cross-validation is set up correctly with 10 folds. | Cross-validation is missing or incorrectly set up. |\n",
    "| **Best Hyperparameter (`n_neighbors`) Selection**       | The best value for `n_neighbors` is identified using the grid search results. | The best `n_neighbors` is not selected or incorrect. |\n",
    "| **Model Evaluation on Test Data**                      | The model is evaluated on the test data using accuracy. | The model evaluation is missing or uses the wrong metric. |\n"
   ]
  },
  {
   "cell_type": "markdown",
   "id": "0b4390cc",
   "metadata": {},
   "source": [
    "## Submission Information\n",
    "\n",
    "🚨 **Please review our [Assignment Submission Guide](https://github.com/UofT-DSI/onboarding/blob/main/onboarding_documents/submissions.md)** 🚨 for detailed instructions on how to format, branch, and submit your work. Following these guidelines is crucial for your submissions to be evaluated correctly.\n",
    "\n",
    "### Note:\n",
    "\n",
    "If you like, you may collaborate with others in the cohort. If you choose to do so, please indicate with whom you have worked with in your pull request by tagging their GitHub username. Separate submissions are required.\n",
    "\n",
    "### Submission Parameters:\n",
    "* Submission Due Date: `11:59 PM - 09/07/2025`\n",
    "* The branch name for your repo should be: `assignment-1`\n",
    "* What to submit for this assignment:\n",
    "    * This Jupyter Notebook (assignment_1.ipynb) should be populated and should be the only change in your pull request.\n",
    "* What the pull request link should look like for this assignment: `https://github.com/<your_github_username>/LCR/pull/<pr_id>`\n",
    "    * Open a private window in your browser. Copy and paste the link to your pull request into the address bar. Make sure you can see your pull request properly. This helps the technical facilitator and learning support staff review your submission easily.\n",
    "\n",
    "Checklist:\n",
    "- [ ] Created a branch with the correct naming convention.\n",
    "- [ ] Ensured that the repository is public.\n",
    "- [ ] Reviewed the PR description guidelines and adhered to them.\n",
    "- [ ] Verify that the link is accessible in a private browser window.\n",
    "\n",
    "If you encounter any difficulties or have questions, please don't hesitate to reach out to our team via our Slack at `#cohort-7-help`. Our Technical Facilitators and Learning Support staff are here to help you navigate any challenges.\n"
   ]
  }
 ],
 "metadata": {
  "kernelspec": {
   "display_name": "dsi_participant",
   "language": "python",
   "name": "python3"
  },
  "language_info": {
   "codemirror_mode": {
    "name": "ipython",
    "version": 3
   },
   "file_extension": ".py",
   "mimetype": "text/x-python",
   "name": "python",
   "nbconvert_exporter": "python",
   "pygments_lexer": "ipython3",
   "version": "3.9.23"
  }
 },
 "nbformat": 4,
 "nbformat_minor": 5
}
